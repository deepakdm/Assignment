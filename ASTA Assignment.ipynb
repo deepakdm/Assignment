{
 "cells": [
  {
   "cell_type": "code",
   "execution_count": 1,
   "metadata": {},
   "outputs": [],
   "source": [
    "# Import Libraries\n",
    "import numpy as np\n",
    "import matplotlib.pyplot as plt\n",
    "\n",
    "from scipy import stats\n",
    "from sklearn.linear_model import LinearRegression\n",
    "from sklearn.preprocessing import PolynomialFeatures"
   ]
  },
  {
   "cell_type": "code",
   "execution_count": 2,
   "metadata": {},
   "outputs": [],
   "source": [
    "# Set variables\n",
    "mu = 1500\n",
    "sigma = 100\n",
    "n = 9\n",
    "sample_mean = 1600\n",
    "sample_deviation = 30\n",
    "\n",
    "X = np.array([10, 14, 16, 20, 12, 11])\n",
    "y = np.array([25, 28, 42, 28, 32, 28])\n",
    "X = X.reshape(-1, 1)\n",
    "y = y.reshape(-1, 1)"
   ]
  },
  {
   "cell_type": "code",
   "execution_count": 3,
   "metadata": {},
   "outputs": [
    {
     "name": "stdout",
     "output_type": "stream",
     "text": [
      "T-Test\n",
      "H0: Mean breaking strength of the cables supplied is 1500.\n",
      "H1: Mean breaking strength of the cables supplied is not 1500.\n",
      "t:  10.0\n",
      "\n",
      "Hypothesis with 1% Level of Significance: \n",
      "t_criteria:  3.3553873313333957\n",
      "Null Hypothesis(H0) is rejected. So, Company's claim is not true.\n",
      "\n",
      "Hypothesis with 5% Level of Significance: \n",
      "t_criteria:  2.3060041350333704\n",
      "Null Hypothesis(H0) is rejected. So, Company's claim is not true.\n"
     ]
    }
   ],
   "source": [
    "# T Test\n",
    "print(\"T-Test\")\n",
    "print(\"H0: Mean breaking strength of the cables supplied is 1500.\")\n",
    "print(\"H1: Mean breaking strength of the cables supplied is not 1500.\")\n",
    "\n",
    "t = (sample_mean - mu)/(sample_deviation/np.sqrt(n))\n",
    "print(\"t: \", t)\n",
    "\n",
    "# Compare with the critical t-value\n",
    "# Degrees of freedom\n",
    "df = n-1\n",
    "\n",
    "print(\"\\nHypothesis with 1% Level of Significance: \")\n",
    "# For 1% level of significance\n",
    "level_of_significance = 1/100\n",
    "\n",
    "# As this is a two tailed test we need to devide it by 2\n",
    "probability = 1 - (level_of_significance/2)\n",
    "t_criteria = stats.t.ppf(probability, df)\n",
    "print(\"t_criteria: \", t_criteria)\n",
    "\n",
    "if -t_criteria < t < t_criteria:\n",
    "    print(\"Null Hypothesis(H0) is accepted. So, Company's claim is true.\")\n",
    "else:\n",
    "    print(\"Null Hypothesis(H0) is rejected. So, Company's claim is not true.\")\n",
    "\n",
    "print(\"\\nHypothesis with 5% Level of Significance: \")\n",
    "# For 5% level of significance\n",
    "level_of_significance = 5/100\n",
    "\n",
    "# As this is a two tailed test we need to devide it by 2\n",
    "probability = 1 - (level_of_significance/2)\n",
    "t_criteria = stats.t.ppf(probability, df)\n",
    "\n",
    "print(\"t_criteria: \", t_criteria)\n",
    "\n",
    "if -t_criteria < t < t_criteria:\n",
    "    print(\"Null Hypothesis(H0) is accepted. So, Company's claim is true.\")\n",
    "else:\n",
    "    print(\"Null Hypothesis(H0) is rejected. So, Company's claim is not true.\")"
   ]
  },
  {
   "cell_type": "code",
   "execution_count": 4,
   "metadata": {},
   "outputs": [
    {
     "name": "stdout",
     "output_type": "stream",
     "text": [
      "Z-Test\n",
      "H0: Mean breaking strength of the cables supplied is 1500.\n",
      "H1: Mean breaking strength of the cables supplied is not 1500.\n",
      "z:  3.0\n",
      "\n",
      "Hypothesis with 1% Level of Significance: \n",
      "z_criteria:  2.5758293035489004\n",
      "Null Hypothesis(H0) is rejected. So, Company's claim is not true.\n",
      "\n",
      "Hypothesis with 5% Level of Significance: \n",
      "z_criteria:  1.959963984540054\n",
      "Null Hypothesis(H0) is rejected. So, Company's claim is not true.\n"
     ]
    }
   ],
   "source": [
    "# Z Test\n",
    "print(\"Z-Test\")\n",
    "print(\"H0: Mean breaking strength of the cables supplied is 1500.\")\n",
    "print(\"H1: Mean breaking strength of the cables supplied is not 1500.\")\n",
    "\n",
    "z = (sample_mean - mu)/(sigma/np.sqrt(n))\n",
    "\n",
    "print(\"z: \", z)\n",
    "\n",
    "print(\"\\nHypothesis with 1% Level of Significance: \")\n",
    "# For 1% level of significance\n",
    "level_of_significance = 1/100\n",
    "\n",
    "# As this is a two tailed test we need to devide it by 2\n",
    "probability = 1 - (level_of_significance/2)\n",
    "z_criteria = stats.norm.ppf(probability)\n",
    "\n",
    "print(\"z_criteria: \", z_criteria)\n",
    "\n",
    "if -z_criteria < z < z_criteria:\n",
    "    print(\"Null Hypothesis(H0) is accepted. So, Company's claim is true.\")\n",
    "else:\n",
    "    print(\"Null Hypothesis(H0) is rejected. So, Company's claim is not true.\")\n",
    "\n",
    "\n",
    "print(\"\\nHypothesis with 5% Level of Significance: \")\n",
    "# For 5% level of significance\n",
    "level_of_significance = 5/100\n",
    "\n",
    "# As this is a two tailed test we need to devide it by 2\n",
    "probability = 1 - (level_of_significance/2)\n",
    "z_criteria = stats.norm.ppf(probability)\n",
    "\n",
    "print(\"z_criteria: \", z_criteria)\n",
    "\n",
    "if -z_criteria < z < z_criteria:\n",
    "    print(\"Null Hypothesis(H0) is accepted. So, Company's claim is true.\")\n",
    "else:\n",
    "    print(\"Null Hypothesis(H0) is rejected. So, Company's claim is not true.\")"
   ]
  },
  {
   "cell_type": "code",
   "execution_count": 5,
   "metadata": {},
   "outputs": [
    {
     "name": "stdout",
     "output_type": "stream",
     "text": [
      "Score:  0.09423306569198599\n",
      "y_pred:  [[28.57869249]\n",
      " [30.58353511]\n",
      " [31.58595642]\n",
      " [33.59079903]\n",
      " [29.5811138 ]\n",
      " [29.07990315]]\n",
      "y_pred:  [[0.50121065]]\n",
      "u:  166.20823244552057\n",
      "v:  183.5\n",
      "r2:  0.09423306569198597\n"
     ]
    },
    {
     "data": {
      "image/png": "[encoded data removed]",
      "text/plain": [
       "<Figure size 432x288 with 1 Axes>"
      ]
     },
     "metadata": {
      "needs_background": "light"
     },
     "output_type": "display_data"
    }
   ],
   "source": [
    "# Linear Regression\n",
    "linear_regression = LinearRegression()\n",
    "\n",
    "linear_regression.fit(X, y)\n",
    "\n",
    "print(\"Score: \", linear_regression.score(X, y))\n",
    "\n",
    "y_pred = linear_regression.predict(X)\n",
    "\n",
    "coef = linear_regression.coef_\n",
    "\n",
    "print(\"y_pred: \", y_pred)\n",
    "print(\"y_pred: \", coef)\n",
    "\n",
    "u = ((y - y_pred) ** 2).sum()\n",
    "v = ((y - y.mean()) ** 2).sum()\n",
    "r2 = (1 - u/v)\n",
    "\n",
    "print(\"u: \", u)\n",
    "print(\"v: \", v)\n",
    "print(\"r2: \", r2)\n",
    "\n",
    "\n",
    "plt.scatter(X, y)\n",
    "plt.plot(X, linear_regression.predict(X), color='green')\n",
    "plt.title(\"Simple Linear Regression\")\n",
    "plt.xlabel(\"X\")\n",
    "plt.ylabel(\"Y\")\n",
    "plt.show()"
   ]
  },
  {
   "cell_type": "code",
   "execution_count": 6,
   "metadata": {},
   "outputs": [
    {
     "name": "stdout",
     "output_type": "stream",
     "text": [
      "Score:  0.5210133952208141\n",
      "y_pred:  [[24.20954638]\n",
      " [34.85477319]\n",
      " [35.84495599]\n",
      " [29.16046039]\n",
      " [30.97630332]\n",
      " [27.95396073]]\n",
      "coef:  [[ 0.         11.32616791 -0.36103588]]\n",
      "intercept:  [-52.94854435]\n",
      "u:  87.8940419769806\n",
      "v:  183.5\n",
      "r2:  0.5210133952208141\n"
     ]
    },
    {
     "data": {
      "image/png": "[encoded data removed]",
      "text/plain": [
       "<Figure size 432x288 with 1 Axes>"
      ]
     },
     "metadata": {
      "needs_background": "light"
     },
     "output_type": "display_data"
    }
   ],
   "source": [
    "# Polynomial Regression with degree 2\n",
    "poly = PolynomialFeatures(degree=2)\n",
    "X_poly = poly.fit_transform(X)\n",
    "\n",
    "poly.fit(X_poly, y)\n",
    "linear_regression = LinearRegression()\n",
    "\n",
    "linear_regression.fit(X_poly, y)\n",
    "\n",
    "print(\"Score: \", linear_regression.score(X_poly, y))\n",
    "\n",
    "y_pred = linear_regression.predict(X_poly)\n",
    "\n",
    "coef = linear_regression.coef_\n",
    "intercept = linear_regression.intercept_\n",
    "\n",
    "print(\"y_pred: \", y_pred)\n",
    "print(\"coef: \", coef)\n",
    "print(\"intercept: \", intercept)\n",
    "\n",
    "u = ((y - y_pred) ** 2).sum()\n",
    "v = ((y - y.mean()) ** 2).sum()\n",
    "r2 = (1 - u/v)\n",
    "\n",
    "print(\"u: \", u)\n",
    "print(\"v: \", v)\n",
    "print(\"r2: \", r2)\n",
    "\n",
    "plt.scatter(X, y)\n",
    "plt.plot(X, linear_regression.predict(poly.fit_transform(X)), color='green')\n",
    "plt.title(\"Polynomial Regression of Order 2\")\n",
    "plt.xlabel(\"X\")\n",
    "plt.ylabel(\"Y\")\n",
    "plt.show()"
   ]
  },
  {
   "cell_type": "code",
   "execution_count": 7,
   "metadata": {},
   "outputs": [
    {
     "name": "stdout",
     "output_type": "stream",
     "text": [
      "Score:  0.6567610746577988\n",
      "y_pred:  [[26.6642111 ]\n",
      " [33.98597721]\n",
      " [38.89025748]\n",
      " [28.31875785]\n",
      " [28.38617145]\n",
      " [26.75462491]]\n",
      "coef:  [[  0.         -50.58231873   3.91475886  -0.09527856]]\n",
      "intercept:  [236.29007272]\n",
      "u:  62.98434280029393\n",
      "v:  183.5\n",
      "r2:  0.6567610746577988\n"
     ]
    },
    {
     "data": {
      "image/png": "[encoded data removed]",
      "text/plain": [
       "<Figure size 432x288 with 1 Axes>"
      ]
     },
     "metadata": {
      "needs_background": "light"
     },
     "output_type": "display_data"
    }
   ],
   "source": [
    "# Polynomial Regression with degree 3\n",
    "poly = PolynomialFeatures(degree=3)\n",
    "X_poly = poly.fit_transform(X)\n",
    "\n",
    "poly.fit(X_poly, y)\n",
    "linear_regression = LinearRegression()\n",
    "\n",
    "linear_regression.fit(X_poly, y)\n",
    "\n",
    "print(\"Score: \", linear_regression.score(X_poly, y))\n",
    "\n",
    "y_pred = linear_regression.predict(X_poly)\n",
    "\n",
    "coef = linear_regression.coef_\n",
    "intercept = linear_regression.intercept_\n",
    "\n",
    "print(\"y_pred: \", y_pred)\n",
    "print(\"coef: \", coef)\n",
    "print(\"intercept: \", intercept)\n",
    "\n",
    "u = ((y - y_pred) ** 2).sum()\n",
    "v = ((y - y.mean()) ** 2).sum()\n",
    "r2 = (1 - u/v)\n",
    "\n",
    "print(\"u: \", u)\n",
    "print(\"v: \", v)\n",
    "print(\"r2: \", r2)\n",
    "\n",
    "plt.scatter(X, y)\n",
    "plt.plot(X, linear_regression.predict(poly.fit_transform(X)), color='green')\n",
    "plt.title(\"Polynomial Regression of Order 3\")\n",
    "plt.xlabel(\"X\")\n",
    "plt.ylabel(\"Y\")\n",
    "plt.show()"
   ]
  }
 ],
 "metadata": {
  "kernelspec": {
   "display_name": "Python 3",
   "language": "python",
   "name": "python3"
  },
  "language_info": {
   "codemirror_mode": {
    "name": "ipython",
    "version": 3
   },
   "file_extension": ".py",
   "mimetype": "text/x-python",
   "name": "python",
   "nbconvert_exporter": "python",
   "pygments_lexer": "ipython3",
   "version": "3.6.9"
  }
 },
 "nbformat": 4,
 "nbformat_minor": 2
}
